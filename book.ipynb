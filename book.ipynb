{
 "cells": [
  {
   "cell_type": "code",
   "execution_count": null,
   "metadata": {},
   "outputs": [],
   "source": [
    "import pandas as pd\n",
    "import matplotlib.pyplot as plt\n",
    "\n",
    "# Load data\n",
    "df = pd.read_excel(\"Dados DGEG Challenge.xlsx\")\n",
    "\n",
    "# Aggregate CO₂ emissions per company per year\n",
    "df_agg = df.groupby([\"Ano\", \"Empresa\"])[\"Emissões de CO2 (toneladas)\"].sum().unstack()\n",
    "\n",
    "# Plot the grouped bar chart\n",
    "df_agg.plot(kind=\"bar\", figsize=(14, 7), colormap=\"tab20\", width=0.8)\n",
    "\n",
    "# Chart labels and title\n",
    "plt.xlabel(\"Year\")\n",
    "plt.ylabel(\"CO₂ Emissions (tons)\")\n",
    "plt.title(\"CO₂ Emissions per Company per Year\")\n",
    "plt.legend(title=\"Company\", bbox_to_anchor=(1.05, 1), loc=\"upper left\")\n",
    "\n",
    "plt.xticks(rotation=45)\n",
    "plt.tight_layout()\n",
    "plt.show()"
   ]
  }
 ],
 "metadata": {
  "language_info": {
   "name": "python"
  }
 },
 "nbformat": 4,
 "nbformat_minor": 2
}
